{
 "cells": [
  {
   "cell_type": "markdown",
   "metadata": {},
   "source": [
    "### Previous on Weekly-Lab\n",
    "上次动手实验室，\n",
    "我们完成了一个爬虫，\n",
    "获取了校园卡的消费记录。\n",
    "\n",
    "无论上次你参没参加，\n",
    "无论你完成得好与不好，\n",
    "为了统一进度，\n",
    "还请同步git仓库。"
   ]
  },
  {
   "cell_type": "markdown",
   "metadata": {},
   "source": [
    "### 依赖\n",
    "\n",
    "- requests\n",
    "- pandas\n",
    "- BeautifulSoup\n",
    "- matplotlib\n",
    "- Pillow\n",
    "\n",
    "安装\n",
    "- windows  `py -3 -m pip install beautifulsoup4 matplotlib pandas Pillow requests` \n",
    "- unix     `python3 -m pip install beautifulsoup4 matplotlib pandas Pillow requests` "
   ]
  },
  {
   "cell_type": "markdown",
   "metadata": {},
   "source": [
    "## 获取消费记录\n",
    "\n",
    "如果你已经同步了仓库，那么你的目录下便会有一个`tutorial_ecard_2.py`文件。用Python3运行它，能获取到校园卡的消费信息。\n",
    "\n",
    "没出意外的话，你的目录下应该已经有了`info.csv`。你可以用文本编辑器打开它，里面正是你的消费记录。"
   ]
  },
  {
   "cell_type": "markdown",
   "metadata": {},
   "source": [
    "## pandas\n",
    "> 最大的心愿是去掉黑眼圈和拍一张彩色照片。\n",
    "\n",
    "pandas 是一种列存数据分析 API，它是用于处理和分析输入数据的强大工具。\n",
    "\n",
    "先导入pandas库"
   ]
  },
  {
   "cell_type": "code",
   "execution_count": null,
   "metadata": {},
   "outputs": [],
   "source": [
    "import pandas as pd\n",
    "pd.__version__"
   ]
  },
  {
   "cell_type": "markdown",
   "metadata": {},
   "source": [
    "#### pandas 主要有两种数据结构：\n",
    "  - Series，它是一列数据。大概类似于 Python 中的列表。\n",
    "  - DataFrame，类似于表格。DataFrame 中包含一个或多个 Series。Series 便是表格中的列，每个 Series 都有一个列名。\n",
    "  \n",
    "\n",
    "| A  | B  |  C | D  |  E  | F\n",
    "---|---|---|---|---|---|---\n",
    "0  | 1.0 |2013-01-02 | 1.0 | 3 |  test | foo\n",
    "1  | 1.0 |2013-01-02 | 1.0 | 3 | train | foo\n",
    "2  | 1.0 |2013-01-02 | 1.0 | 3 |  test | foo\n",
    "3  | 1.0 |2013-01-02 | 1.0 | 3 | train | foo\n",
    "\n",
    "上表中的\n",
    "- A {1.0,1.0,1.0,1.0}\n",
    "- B {2013-01-02,2013-01-02,2013-01-02,2013-01-02}\n",
    "- ...\n",
    "- E {test,train,test,train}\n",
    "- ...\n",
    "\n",
    "便相当于 Sereis，整个表格便相当于DataFrame。\n"
   ]
  },
  {
   "cell_type": "markdown",
   "metadata": {},
   "source": [
    "我们可以用 `pandas.DataFrame` 和 `pandas.Series` 构造这两个结构。"
   ]
  },
  {
   "cell_type": "code",
   "execution_count": null,
   "metadata": {},
   "outputs": [],
   "source": [
    "pd.Series(['San Francisco', 'San Jose', 'Sacramento']) # 用列表生成 Series"
   ]
  },
  {
   "cell_type": "code",
   "execution_count": null,
   "metadata": {},
   "outputs": [],
   "source": [
    "pd.date_range('20180401', periods=6) # pandas 也有一些生成 Series 的方法"
   ]
  },
  {
   "cell_type": "code",
   "execution_count": null,
   "metadata": {},
   "outputs": [],
   "source": [
    "city_names = pd.Series(['San Francisco', 'San Jose', 'Sacramento'])\n",
    "population = pd.Series([852469, 1015785, 485199])\n",
    "\n",
    "# 而 DataFrame 可以用 列名:Series 这样的字典创建。\n",
    "cities = pd.DataFrame({ 'City name': city_names, 'Population': population }) \n",
    "\n",
    "cities"
   ]
  },
  {
   "cell_type": "markdown",
   "metadata": {},
   "source": [
    "既然 DataFrame 可以用字典来构造，一般来说 DataFrame 也会表现得比较像字典。在很多对象中都有这样的规律。"
   ]
  },
  {
   "cell_type": "code",
   "execution_count": null,
   "metadata": {},
   "outputs": [],
   "source": [
    "cities['City name']"
   ]
  },
  {
   "cell_type": "code",
   "execution_count": null,
   "metadata": {},
   "outputs": [],
   "source": [
    "cities['Population']"
   ]
  },
  {
   "cell_type": "code",
   "execution_count": null,
   "metadata": {},
   "outputs": [],
   "source": [
    "cities['Area square miles'] = pd.Series([46.87, 176.53, 97.92]) # 可以直接往里面添加/修改列\n",
    "\n",
    "cities"
   ]
  },
  {
   "cell_type": "markdown",
   "metadata": {},
   "source": [
    "同样，Series 也表现得很像列表。"
   ]
  },
  {
   "cell_type": "code",
   "execution_count": null,
   "metadata": {},
   "outputs": [],
   "source": [
    "cities['City name'][0]"
   ]
  },
  {
   "cell_type": "code",
   "execution_count": null,
   "metadata": {},
   "outputs": [],
   "source": [
    "cities['City name'][0:2]"
   ]
  },
  {
   "cell_type": "markdown",
   "metadata": {},
   "source": [
    "#### 操纵数据\n",
    "用pandas可以很简便地操纵数据。例如："
   ]
  },
  {
   "cell_type": "code",
   "execution_count": null,
   "metadata": {},
   "outputs": [],
   "source": [
    "population / 1000.0"
   ]
  },
  {
   "cell_type": "markdown",
   "metadata": {},
   "source": [
    "并且，你可以用 .apply 函数，实现 map 的功能。"
   ]
  },
  {
   "cell_type": "code",
   "execution_count": null,
   "metadata": {},
   "outputs": [],
   "source": [
    "population.apply(lambda val: val > 1000000) # 生成新列，布尔值表示 population 是否大于 1,000,000"
   ]
  },
  {
   "cell_type": "markdown",
   "metadata": {},
   "source": [
    "甚至，你可以直接做列与列的计算"
   ]
  },
  {
   "cell_type": "code",
   "execution_count": null,
   "metadata": {},
   "outputs": [],
   "source": [
    "cities['Population density'] = cities['Population'] / cities['Area square miles'] # 人口密度 = 人口 / 面积\n",
    "cities"
   ]
  },
  {
   "cell_type": "markdown",
   "metadata": {},
   "source": [
    "练习：已知San Francisco, San Jose, Sacramento 的 GDP 分别为：43170.4, 23522.2, 11882.2 （单位：百万美元）。为 DataFrame 添加 GDP 列，并计算人均 GDP (单位：美元）。（参考数据不一定真实）"
   ]
  },
  {
   "cell_type": "code",
   "execution_count": null,
   "metadata": {},
   "outputs": [],
   "source": [
    "cities['GDP'] = \n",
    "cities['GDP per capita'] =\n",
    "cities"
   ]
  },
  {
   "cell_type": "markdown",
   "metadata": {},
   "source": [
    "参考答案\n",
    "<p style=\"color:#000;background-color:#000;\">\n",
    "cities['GDP'] = pd.Series([43170.4, 23522.2, 11882.2])<br/>\n",
    "cities['GDP per capita'] = cities['GDP'] * 1000000 / cities['Population']\n",
    "</p>"
   ]
  },
  {
   "cell_type": "markdown",
   "metadata": {},
   "source": [
    "另外，对 Series 和 DataFrames 还有一些统计相关的方法。你可以从[这里](http://pandas.pydata.org/pandas-docs/stable/basics.html#descriptive-statistics)查看更多的文档。"
   ]
  },
  {
   "cell_type": "code",
   "execution_count": null,
   "metadata": {},
   "outputs": [],
   "source": [
    "cities['Population'].sum() # 计算总人口"
   ]
  },
  {
   "cell_type": "code",
   "execution_count": null,
   "metadata": {},
   "outputs": [],
   "source": [
    "cities['Population'].mean() # 计算平均人口"
   ]
  },
  {
   "cell_type": "code",
   "execution_count": null,
   "metadata": {},
   "outputs": [],
   "source": [
    "cities['Population'].max() # 计算最大值"
   ]
  },
  {
   "cell_type": "markdown",
   "metadata": {},
   "source": [
    "## 消费数据的处理\n",
    "\n",
    "pandas 提供了一些API供我们读取数据，常见的，用 `pandas.read_csv` 读取csv文件（这个函数不仅可以读取本地的，也可以读取网络的）。"
   ]
  },
  {
   "cell_type": "code",
   "execution_count": null,
   "metadata": {},
   "outputs": [],
   "source": [
    "consume_data = pd.read_csv('data.csv') \n",
    "consume_data"
   ]
  },
  {
   "cell_type": "markdown",
   "metadata": {},
   "source": [
    "操作时间 这一列的数据的类型是字符串，我们先转化一下格式。"
   ]
  },
  {
   "cell_type": "code",
   "execution_count": null,
   "metadata": {},
   "outputs": [],
   "source": [
    "consume_data['操作时间'] = pd.to_datetime(consume_data['操作时间']) # 格式化“操作时间”"
   ]
  },
  {
   "cell_type": "markdown",
   "metadata": {},
   "source": [
    "我们可以用 `groupby` 函数，对data进行分类。`groupby`第一个参数（也是通常使用的参数）是分类的依据，一般是列名。"
   ]
  },
  {
   "cell_type": "code",
   "execution_count": null,
   "metadata": {},
   "outputs": [],
   "source": [
    "grouped = consume_data.groupby('科目描述') # 按照科目描述这列分类\n",
    "\n",
    "grouped.get_group('餐费支出') # 例如这样就获得了所有餐费支出的数据"
   ]
  },
  {
   "cell_type": "markdown",
   "metadata": {},
   "source": [
    "也可以对 grouped 进行诸如求和这样的操作。"
   ]
  },
  {
   "cell_type": "code",
   "execution_count": null,
   "metadata": {},
   "outputs": [],
   "source": [
    "grouped.sum()"
   ]
  },
  {
   "cell_type": "markdown",
   "metadata": {},
   "source": [
    "但是，钱包余额也被求和了，这是我们不想要的。我们可以仅选中其中的几列。"
   ]
  },
  {
   "cell_type": "code",
   "execution_count": null,
   "metadata": {},
   "outputs": [],
   "source": [
    "grouped[['钱包交易金额']].sum()\n",
    "# 为什么这里索引用的是 [[ ]] 呢？去掉里面的方括号试一下，想一下为什么。"
   ]
  },
  {
   "cell_type": "markdown",
   "metadata": {},
   "source": [
    "提示:<span style=\"color:#000;background-color:#000;\">\n",
    "[] 得到的是一个 Series, [[ ]] 得到的是一个 DataFrame。\n",
    "</span>"
   ]
  },
  {
   "cell_type": "markdown",
   "metadata": {},
   "source": [
    "`groupby`也支持用`Grouper`对象进行分类，例如下面这段代码就按每天分类。"
   ]
  },
  {
   "cell_type": "code",
   "execution_count": null,
   "metadata": {},
   "outputs": [],
   "source": [
    "grouped2 = consume_data.groupby(pd.Grouper(freq='1D',key='操作时间')) \n",
    "grouped2[['钱包交易金额']].sum()"
   ]
  },
  {
   "cell_type": "markdown",
   "metadata": {},
   "source": [
    "练习：获得在每个终端消费的总金额。"
   ]
  },
  {
   "cell_type": "code",
   "execution_count": null,
   "metadata": {},
   "outputs": [],
   "source": [
    "grouped3 = ______\n",
    "grouped3______"
   ]
  },
  {
   "cell_type": "markdown",
   "metadata": {},
   "source": [
    "参考答案：\n",
    "<p style=\"color:#000;background-color:#000;\">\n",
    "grouped3 = consume_data.groupby('终端名称') <br/>\n",
    "grouped3[['钱包交易金额']].sum()\n",
    "</p>"
   ]
  },
  {
   "cell_type": "markdown",
   "metadata": {},
   "source": [
    "## 绘制图表\n",
    "\n",
    "在绘制图标之前，我们需要先设置一下字体，否则中文字符会无法显示。\n",
    "\n",
    "如果设置了之后，中文仍不能正常显示，可以：\n",
    "1. 安装 pypinyin\n",
    "   - windows  `py -3 -m pip install pypinyin` \n",
    "   - unix     `python3 -m pip install pypinyin` \n",
    "2. 运行目录下的`topinyin.py`将所有中文字符转换成拼音"
   ]
  },
  {
   "cell_type": "code",
   "execution_count": null,
   "metadata": {},
   "outputs": [],
   "source": [
    "%matplotlib inline \n",
    "# 上面一句用于jupyter，非jupyter请删掉。\n",
    "\n",
    "import matplotlib\n",
    "matplotlib.rc('font', family=['KaiTi']) # 在这个列表里加入字体名\n",
    "matplotlib.pyplot.rcParams['axes.unicode_minus']=False # 用来正常显示负号"
   ]
  },
  {
   "cell_type": "markdown",
   "metadata": {},
   "source": [
    "我们可以绘制钱包余额关于操作时间的折线图。"
   ]
  },
  {
   "cell_type": "code",
   "execution_count": null,
   "metadata": {
    "scrolled": true
   },
   "outputs": [],
   "source": [
    "consume_data.plot(x='操作时间',y='钱包余额')"
   ]
  },
  {
   "cell_type": "markdown",
   "metadata": {},
   "source": [
    "也可以指定kind参数绘制饼状图。"
   ]
  },
  {
   "cell_type": "code",
   "execution_count": null,
   "metadata": {},
   "outputs": [],
   "source": [
    "grouped.sum().plot(x='终端名称',y='钱包交易金额',kind='pie')"
   ]
  },
  {
   "cell_type": "markdown",
   "metadata": {},
   "source": [
    "也可以绘制条形图。"
   ]
  },
  {
   "cell_type": "code",
   "execution_count": null,
   "metadata": {},
   "outputs": [],
   "source": [
    "grouped2[['钱包交易金额']].sum().plot(kind='bar')"
   ]
  },
  {
   "cell_type": "markdown",
   "metadata": {},
   "source": [
    "具体 kind 有这些选项： \n",
    "- ‘line’ : line plot (default)\n",
    "- ‘bar’ : vertical bar plot\n",
    "- ‘barh’ : horizontal bar plot\n",
    "- ‘hist’ : histogram\n",
    "- ‘box’ : boxplot\n",
    "- ‘kde’ : Kernel Density Estimation plot\n",
    "- ‘density’ : same as ‘kde’\n",
    "- ‘area’ : area plot\n",
    "- ‘pie’ : pie plot\n",
    "- ‘scatter’ : scatter plot\n",
    "- ‘hexbin’ : hexbin plot"
   ]
  },
  {
   "cell_type": "markdown",
   "metadata": {},
   "source": [
    "练习：根据数据绘制任意一个你想要的图表"
   ]
  },
  {
   "cell_type": "code",
   "execution_count": null,
   "metadata": {},
   "outputs": [],
   "source": []
  }
 ],
 "metadata": {
  "kernelspec": {
   "display_name": "Python 3",
   "language": "python",
   "name": "python3"
  },
  "language_info": {
   "codemirror_mode": {
    "name": "ipython",
    "version": 3
   },
   "file_extension": ".py",
   "mimetype": "text/x-python",
   "name": "python",
   "nbconvert_exporter": "python",
   "pygments_lexer": "ipython3",
   "version": "3.6.4"
  }
 },
 "nbformat": 4,
 "nbformat_minor": 2
}
