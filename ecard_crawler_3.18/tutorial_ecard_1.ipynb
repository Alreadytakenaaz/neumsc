{
 "cells": [
  {
   "cell_type": "markdown",
   "metadata": {},
   "source": [
    "# 冻手实验室3.18-NEU校园卡查询中心模拟登陆与数据获取\n",
    "\n",
    "## 1.本次将学到\n",
    "\n",
    "- 如何利用浏览器的开发者功能来了解一个页面\n",
    "- 用与发送http请求的python库-[requests](http://docs.python-requests.org/zh_CN/latest/user/quickstart.html)\n",
    "- 用与解析网页的python库-[BeautifulSoup](https://www.crummy.com/software/BeautifulSoup/bs4/doc/index.zh.html)\n",
    "\n",
    "## 2.环境配置\n",
    "\n",
    "**强烈建议大家提前配置好环境**\n",
    "- python3\n",
    "- python包：\n",
    "    - requests   安装方法：`pip install requests`  \n",
    "    - BeautifulSoup [安装方法见此处](https://www.crummy.com/software/BeautifulSoup/bs4/doc/index.zh.html#id5)\n",
    "    - jupyter notebook  [安装方法见此处](http://jupyter.org/install)\n"
   ]
  },
  {
   "cell_type": "markdown",
   "metadata": {},
   "source": [
    "## 3.导入需要用到的包"
   ]
  },
  {
   "cell_type": "code",
   "execution_count": null,
   "metadata": {},
   "outputs": [],
   "source": [
    "import requests\n",
    "from bs4 import BeautifulSoup\n",
    "import random\n",
    "import matplotlib.pyplot as plt\n",
    "import matplotlib.image as mpimg\n",
    "%matplotlib inline"
   ]
  },
  {
   "cell_type": "markdown",
   "metadata": {},
   "source": [
    "## 4.具体步骤\n",
    "\n",
    "- 4.1模拟登录\n",
    "    - 4.1.1获取登陆页面\n",
    "    - 4.1.2获取验证码\n",
    "    - 4.1.3登录\n",
    "\n",
    "- 4.2数据查询与获取\n",
    "    - 4.2.1 获取查询页面\n",
    "    - 4.2.2 进行查询\n",
    "    - 4.2.3 结果翻页\n",
    "\n",
    "\n",
    "\n"
   ]
  },
  {
   "cell_type": "markdown",
   "metadata": {},
   "source": [
    "### 4.1.1获取登陆页面\n",
    "\n",
    "这里，我们先获取尝试利用request来发送get请求登录页面。\n",
    "\n",
    "为了保持登录的状态，我们需要用到requests的session对象，他可以自动地为我们保存cookies。而一般网站会利用cookies来保存用户的状态。\n",
    "\n",
    "我们还将使用BeautifulSoup来解析此页面"
   ]
  },
  {
   "cell_type": "code",
   "execution_count": null,
   "metadata": {},
   "outputs": [],
   "source": [
    "session = requests.Session()"
   ]
  },
  {
   "cell_type": "code",
   "execution_count": null,
   "metadata": {},
   "outputs": [],
   "source": [
    "url_login='http://ecard.neu.edu.cn/SelfSearch/Login.aspx'\n",
    "resp_login_page = session.get(url=url_login)"
   ]
  },
  {
   "cell_type": "code",
   "execution_count": null,
   "metadata": {
    "scrolled": false
   },
   "outputs": [],
   "source": [
    "#查看获取到网页内容\n",
    "print(resp_login_page.text)"
   ]
  },
  {
   "cell_type": "markdown",
   "metadata": {},
   "source": [
    "以上内容，我们可以用正则表达式来找出我们想要的信息，不过太难了。让我们来尝尝神奇的BeautifulSoup😎\n",
    "\n",
    "第一个参数是网页的内容，第二个参数是所用的解析器，‘html.parser’是python标准库中自带的。\n",
    "\n",
    "这样我们就获得了一个文档对象。"
   ]
  },
  {
   "cell_type": "code",
   "execution_count": null,
   "metadata": {},
   "outputs": [],
   "source": [
    "soup_login_page = BeautifulSoup(resp_login_page.text, 'html.parser')"
   ]
  },
  {
   "cell_type": "markdown",
   "metadata": {},
   "source": [
    "通过这个文档对象可以轻易地获取我们想获取的内容。\n",
    "\n",
    "以下代码找到了页面中的title标签。\n",
    "\n",
    "关于find方法的更多介绍，你可以[看这里](https://www.crummy.com/software/BeautifulSoup/bs4/doc/index.zh.html#find)\n",
    "\n",
    "- find返回第一个结果。\n",
    "- find_all方法会返回一个储存了全部结果的list"
   ]
  },
  {
   "cell_type": "code",
   "execution_count": null,
   "metadata": {},
   "outputs": [],
   "source": [
    "soup_login_page.find('title')"
   ]
  },
  {
   "cell_type": "markdown",
   "metadata": {},
   "source": [
    "也可以直接用id来搜索"
   ]
  },
  {
   "cell_type": "code",
   "execution_count": null,
   "metadata": {},
   "outputs": [],
   "source": [
    "soup_login_page.find(id='one1')"
   ]
  },
  {
   "cell_type": "markdown",
   "metadata": {},
   "source": [
    "那你来试试看，获取VIEWSTATE和EVENTVALIDATION的值。\n",
    "\n",
    "提示：他们的值写的html里面，并且有特定的id。\n",
    "标签的属性，可以通过`xxx['abc']`来获取"
   ]
  },
  {
   "cell_type": "code",
   "execution_count": null,
   "metadata": {},
   "outputs": [],
   "source": [
    "VIEWSTATE= \n",
    "EVENTVALIDATION=\n",
    "print(VIEWSTATE+'\\n')\n",
    "print(EVENTVALIDATION)"
   ]
  },
  {
   "cell_type": "markdown",
   "metadata": {},
   "source": [
    "### 4.1.2获取验证码\n",
    "通常你看到的网页中的图片，在html中只是写了一个图片的链接。\n",
    "我们的验证码也需要从一个图片获得。\n"
   ]
  },
  {
   "cell_type": "code",
   "execution_count": null,
   "metadata": {},
   "outputs": [],
   "source": [
    "# 获得验证码的url，你需要写一行,提示：你可能需要随机数函数\n",
    "url_captcha=\n",
    "#向该链接发送get请求，并获取Response对象，你需要写一行\n",
    "resp_captcha = "
   ]
  },
  {
   "cell_type": "markdown",
   "metadata": {},
   "source": [
    "将图片保存。\n",
    "[关于二进制的响应内容](http://docs.python-requests.org/zh_CN/latest/user/quickstart.html#id4)"
   ]
  },
  {
   "cell_type": "code",
   "execution_count": null,
   "metadata": {},
   "outputs": [],
   "source": [
    "with open('captcha.gif', 'wb') as f:\n",
    "    f.write(resp_captcha.content)\n",
    "    f.close()"
   ]
  },
  {
   "cell_type": "markdown",
   "metadata": {},
   "source": [
    "读取图片文件，并显示。\n",
    "\n",
    "[教程看这里](https://matplotlib.org/tutorials/introductory/images.html#sphx-glr-tutorials-introductory-images-py)"
   ]
  },
  {
   "cell_type": "code",
   "execution_count": null,
   "metadata": {},
   "outputs": [],
   "source": [
    "img = mpimg.imread('captcha.gif')\n",
    "plt.imshow(img)"
   ]
  },
  {
   "cell_type": "code",
   "execution_count": null,
   "metadata": {},
   "outputs": [],
   "source": [
    "#把看到的验证码填到这里,注意是字符串形式哟\n",
    "captcha="
   ]
  },
  {
   "cell_type": "markdown",
   "metadata": {},
   "source": [
    "### 4.1.3登录"
   ]
  },
  {
   "cell_type": "markdown",
   "metadata": {},
   "source": [
    "登录需要向服务器发送一个post请求，\n",
    "你需要先获取所需的链接和post请求的请求体内容"
   ]
  },
  {
   "cell_type": "code",
   "execution_count": null,
   "metadata": {},
   "outputs": [],
   "source": [
    "userName = \n",
    "passwd=\n",
    "\n",
    "url_login = \n",
    "postdata = {\n",
    "\n",
    "}"
   ]
  },
  {
   "cell_type": "code",
   "execution_count": null,
   "metadata": {},
   "outputs": [],
   "source": [
    "loginresponse = session.post(url=url_login, data=postdata)\n",
    "print('跳转的链接：', loginresponse.url)"
   ]
  },
  {
   "cell_type": "markdown",
   "metadata": {},
   "source": [
    "如果返回的是'http://ecard.neu.edu.cn/SelfSearch/Index.aspx' 则说明我们已经登录成功并且跳转到了登陆后的页面。"
   ]
  },
  {
   "cell_type": "markdown",
   "metadata": {},
   "source": [
    "来看看你的证件照吧！"
   ]
  },
  {
   "cell_type": "code",
   "execution_count": null,
   "metadata": {},
   "outputs": [],
   "source": [
    "# 自己去找照片的url\n",
    "url_profile_photo=\n",
    "\n",
    "#发送get请求\n",
    "resp_profile_photo = session.get(url=url_profile_photo)\n",
    "\n",
    "#你可以看请求对象的url属性值十分为http://ecard.neu.edu.cn/SelfSearch/User/Photo.ashx 来判断是否是登录成功的。因为要是没成功，回跳转到登录页面\n",
    "print('跳转链接', resp_profile_photo.url)\n",
    "\n",
    "#保存图片\n",
    "with open('userPic.jpg', 'wb') as f:\n",
    "    f.write(resp_profile_photo.content)\n",
    "    f.close()\n"
   ]
  },
  {
   "cell_type": "code",
   "execution_count": null,
   "metadata": {},
   "outputs": [],
   "source": [
    "#查看图片，自己写\n"
   ]
  },
  {
   "cell_type": "markdown",
   "metadata": {},
   "source": [
    "### 4.2数据查询与获取"
   ]
  },
  {
   "cell_type": "markdown",
   "metadata": {},
   "source": [
    "### 4.2.1 获取查询页面\n",
    "\n",
    "4.2.3 结果翻页"
   ]
  },
  {
   "cell_type": "code",
   "execution_count": null,
   "metadata": {},
   "outputs": [],
   "source": [
    "# 自己找消费记录是向哪个url请求的\n",
    "url_consumeInfo=\n",
    "\n",
    "#获取页面\n",
    "consume_response0=session.get(url_consumeInfo)\n",
    "consume_soup = BeautifulSoup(consume_response0.text, 'html.parser')\n",
    "\n",
    "#解析出以下两个变量的值\n",
    "VIEWSTATE=\n",
    "EVENTVALIDATION="
   ]
  },
  {
   "cell_type": "markdown",
   "metadata": {},
   "source": [
    "### 4.2.2 进行查询与数据解析"
   ]
  },
  {
   "cell_type": "code",
   "execution_count": null,
   "metadata": {},
   "outputs": [],
   "source": [
    "#构造postdata\n",
    "postdata_consume = {\n",
    "\n",
    "}\n",
    "\n",
    "resp_consume_1=session.post(url_consumeInfo,data=postdata_consume)\n",
    "soup_consume_1 = BeautifulSoup(resp_consume_1.text, 'html.parser')\n"
   ]
  },
  {
   "cell_type": "code",
   "execution_count": null,
   "metadata": {},
   "outputs": [],
   "source": [
    "#找到显示交易信息的table\n",
    "info_table="
   ]
  },
  {
   "cell_type": "code",
   "execution_count": null,
   "metadata": {},
   "outputs": [],
   "source": [
    "#想办法利用find_all方法，把每一行的数据提出来，再把一行中的对应内容提取出来\n",
    "#提示：对于一个文档对象  可以利用abc.text 来获取其文字内容\n",
    "#提示：关于HTML的table，可以看这里http://www.w3school.com.cn/tags/tag_table.asp\n",
    "\n",
    "\n"
   ]
  },
  {
   "cell_type": "markdown",
   "metadata": {},
   "source": [
    "### 4.2.3 翻页（自己完成）\n",
    "\n",
    "1. 探索翻页实现的机制\n",
    "2. 构造对应的请求数据实现翻页"
   ]
  },
  {
   "cell_type": "code",
   "execution_count": null,
   "metadata": {},
   "outputs": [],
   "source": []
  }
 ],
 "metadata": {
  "anaconda-cloud": {},
  "kernelspec": {
   "display_name": "Python [conda root]",
   "language": "python",
   "name": "conda-root-py"
  },
  "language_info": {
   "codemirror_mode": {
    "name": "ipython",
    "version": 3
   },
   "file_extension": ".py",
   "mimetype": "text/x-python",
   "name": "python",
   "nbconvert_exporter": "python",
   "pygments_lexer": "ipython3",
   "version": "3.5.2"
  }
 },
 "nbformat": 4,
 "nbformat_minor": 2
}
