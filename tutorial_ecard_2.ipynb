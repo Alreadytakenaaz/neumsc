{
 "cells": [
  {
   "cell_type": "markdown",
   "metadata": {},
   "source": [
    "# 冻手实验室3.18-NEU校园卡查询中心模拟登陆与数据获取\n",
    "\n",
    "## 1.本次将学到\n",
    "\n",
    "- 如何利用浏览器的开发者功能来了解一个页面\n",
    "- 用与发送http请求的python库-[requests](http://docs.python-requests.org/zh_CN/latest/user/quickstart.html)\n",
    "- 用与解析网页的python库-[BeautifulSoup](https://www.crummy.com/software/BeautifulSoup/bs4/doc/index.zh.html)\n",
    "\n",
    "## 2.环境配置\n",
    "\n",
    "**强烈建议大家提前配置好环境**\n",
    "- python3\n",
    "- python包：\n",
    "    - requests   安装方法：`pip install requests`  \n",
    "    - BeautifulSoup [安装方法见此处](https://www.crummy.com/software/BeautifulSoup/bs4/doc/index.zh.html#id5)\n",
    "    - jupyter notebook  [安装方法见此处](http://jupyter.org/install)\n",
    "    - matplotlib 安装方法：`pip install -U matplotlib`  或者查看[官方教程](https://matplotlib.org/users/installing.html)\n",
    "- **推荐使用**chrome或者Firefox浏览器\n"
   ]
  },
  {
   "cell_type": "markdown",
   "metadata": {},
   "source": [
    "## 3.导入需要用到的包"
   ]
  },
  {
   "cell_type": "code",
   "execution_count": 1,
   "metadata": {
    "collapsed": true
   },
   "outputs": [],
   "source": [
    "import requests\n",
    "from bs4 import BeautifulSoup\n",
    "import random\n",
    "import matplotlib.pyplot as plt\n",
    "import matplotlib.image as mpimg\n",
    "%matplotlib inline"
   ]
  },
  {
   "cell_type": "markdown",
   "metadata": {},
   "source": [
    "## 4.具体步骤\n",
    "\n",
    "- 4.1模拟登录\n",
    "    - 4.1.1获取登陆页面\n",
    "    - 4.1.2获取验证码\n",
    "    - 4.1.3登录\n",
    "\n",
    "- 4.2数据查询与获取\n",
    "    - 4.2.1 获取查询页面\n",
    "    - 4.2.2 进行查询\n",
    "    - 4.2.3 结果翻页\n",
    "\n",
    "\n",
    "\n"
   ]
  },
  {
   "cell_type": "markdown",
   "metadata": {},
   "source": [
    "### 4.1.1获取登陆页面\n",
    "\n",
    "这里，我们先获取尝试利用request来发送get请求登录页面。\n",
    "\n",
    "为了保持登录的状态，我们需要用到requests的session对象，他可以自动地为我们保存cookies。而一般网站会利用cookies来保存用户的状态。\n",
    "\n",
    "我们还将使用BeautifulSoup来解析此页面"
   ]
  },
  {
   "cell_type": "code",
   "execution_count": 2,
   "metadata": {
    "collapsed": true
   },
   "outputs": [],
   "source": [
    "session = requests.Session()"
   ]
  },
  {
   "cell_type": "code",
   "execution_count": 3,
   "metadata": {
    "collapsed": true
   },
   "outputs": [],
   "source": [
    "url_login='http://ecard.neu.edu.cn/SelfSearch/Login.aspx'\n",
    "resp_login_page = session.get(url=url_login)"
   ]
  },
  {
   "cell_type": "code",
   "execution_count": 4,
   "metadata": {
    "scrolled": false
   },
   "outputs": [
    {
     "name": "stdout",
     "output_type": "stream",
     "text": [
      "\r\n",
      "<!DOCTYPE html PUBLIC \"-//W3C//Dtd XHTML 1.0 Transitional//EN\" \"http://www.w3.org/TR/xhtml1/Dtd/xhtml1-transitional.dtd\">\r\n",
      "<html xmlns=\"http://www.w3.org/1999/xhtml\">\r\n",
      "<head id=\"Head1\"><title>\r\n",
      "\t\r\n",
      "        一卡通自助查询\r\n",
      "        --欢迎登录\r\n",
      "</title><meta http-equiv=\"Pragma\" content=\"no-cache\" /><meta http-equiv=\"Cache-Control\" content=\"no-cache\" /><meta http-equiv=\"Expires\" content=\"0\" /><link href=\"css/login.css\" rel=\"stylesheet\" type=\"text/css\" />\r\n",
      "    <style type=\"text/css\">\r\n",
      "        .schoolName\r\n",
      "        {\r\n",
      "            margin-top: 5px;\r\n",
      "            width: 320px;\r\n",
      "            display: none;\r\n",
      "            text-align: center;\r\n",
      "            color: Red;\r\n",
      "        }\r\n",
      "        /* 遮罩层 */\r\n",
      "        .overlay { background: #000000; opacity: .50;filter:Alpha(Opacity=50); }\r\n",
      "\r\n",
      "        .overlay-container{position:absolute;z-index:2000;}\r\n",
      "        .overlay-loading{background:url(images/loading2.gif) no-repeat center center; width:124px; height:124px; text-align:center; line-height:124px; vertical-align:middle; color:White; font-size:15px; font-weight:bold;}\r\n",
      "        .overlay-msg{ text-align:center; color:White; font-size:14px; font-weight:bold; margin-top:8px;}\r\n",
      "    </style>\r\n",
      "     \r\n",
      "    <script src=\"JS/jquery-1.7.2.min.js\" type=\"text/javascript\"></script>\r\n",
      "    <script src=\"JS/keyboard/bigkeyboard.js\" type=\"text/javascript\"></script>\r\n",
      "    <script src=\"JS/DisableContextMenu.js\" type=\"text/javascript\"></script>\r\n",
      "    <script src=\"JS/jquery.overlay.js\" type=\"text/javascript\"></script>\r\n",
      "    <script type=\"text/javascript\">\r\n",
      "        var isUseSoftKeyBoard=false;\r\n",
      "        if(self!=top){\r\n",
      "            var url=self.location.href.toLowerCase();\r\n",
      "            if(url.indexOf(\"index_welcome.aspx\"))\r\n",
      "                top.location=url.substring(0,url.indexOf(\"?\"));\r\n",
      "            else\r\n",
      "                top.location=url;\r\n",
      "        }\r\n",
      "       \r\n",
      "        function ShowValidImage()\r\n",
      "        {\r\n",
      "            if(document.getElementById(\"imgRandom\"))\r\n",
      "                document.getElementById(\"imgRandom\").src = \"validateimage.ashx?\"+Math.random();\r\n",
      "        }\r\n",
      "        \r\n",
      "         function FormReset() {\r\n",
      "            var formLength=document.forms.length;\r\n",
      "\t\t\tfor(i=0;i<formLength;i++)\r\n",
      "\t\t\t{\r\n",
      "                if(document.forms[i].id=='form2')\r\n",
      "\t\t\t\t    $(document.forms[i]).find(\"input[type='text'],input[type='password']\").val('');\r\n",
      "\t\t\t}\r\n",
      "        }\r\n",
      "        \r\n",
      "        $(function(){\r\n",
      "            Upgrade();\r\n",
      "            ShowValidImage();\r\n",
      "            SetSoftKey('#txtCustUnitCode,#txtUserName,#txtPassword,#txtVaildateCode');\r\n",
      "            $('#txtCustUnitCode').bind('blur',function(){ \r\n",
      "                $.ajax({\r\n",
      "                    url:'ajax/ajax.ashx',\r\n",
      "                    data:{'action':'getscname','scid':$('#txtCustUnitCode').val()},\r\n",
      "                    type: \"GET\",\r\n",
      "                    success:function(data)\r\n",
      "                    {\r\n",
      "                        var jsonData= jQuery.parseJSON(data);\r\n",
      "                        if(jsonData.ResultCode=='1')\r\n",
      "                            $('.schoolName').show().text(jsonData.Result);\r\n",
      "                        else\r\n",
      "                            $('.schoolName').show().text('不存在的企业代码');\r\n",
      "                    }\r\n",
      "                });\r\n",
      "            });\r\n",
      "        });\r\n",
      "        \r\n",
      "        var SetSoftKey=function(idList)\r\n",
      "        {\r\n",
      "            if(isUseSoftKeyBoard)\r\n",
      "            {\r\n",
      "                $(idList).bind('mousedown',function(){\r\n",
      "                    password1=this;showkeyboard();this.readOnly=1;Calc.password.value='';\r\n",
      "                }).bind('keydown',function(){\r\n",
      "                    Calc.password.value=this.value;});\r\n",
      "            }\r\n",
      "        }\r\n",
      "       \r\n",
      "        if (document.layers){\r\n",
      "                document.captureEvents(Event.MOUSEDOWN);\r\n",
      "                document.onmousedown=clickNS4;\r\n",
      "                document.onkeydown=OnDeny();\r\n",
      "        }else if (document.all&&!document.getElementById){\r\n",
      "                document.onmousedown=clickIE4;\r\n",
      "                document.onkeydown=OnDeny();\r\n",
      "        }\r\n",
      " \r\n",
      "        document.oncontextmenu=new Function(\"return false\");\r\n",
      "\r\n",
      "        var outid='学&nbsp;(工)&nbsp;号：';\r\n",
      "        var merchant='商&nbsp; 户 &nbsp;号：';\r\n",
      "        function LableOutidChange(obj)\r\n",
      "       {\r\n",
      "            if(obj.checked) $(\"#lblOutid\").html(merchant);\r\n",
      "            else $(\"#lblOutid\").html(outid);\r\n",
      "        }\r\n",
      "\r\n",
      "        function setTab(name,cursel,n){\r\n",
      "\r\n",
      "             for(i=1;i<=n;i++){\r\n",
      "\r\n",
      "              var menu=document.getElementById(name+i);\r\n",
      "\r\n",
      "              menu.className=i==cursel?\"hover\":\"\";\r\n",
      "             }\r\n",
      "\r\n",
      "             if (cursel==1) { $(\"#lblOutid\").html(outid); $(\"#hfIsManager\").val(\"0\");$(\"#aForgetPWD\").css(\"display\",\"block\");}\r\n",
      "             else { $(\"#lblOutid\").html(merchant);$(\"#hfIsManager\").val(\"1\");$(\"#aForgetPWD\").css(\"display\",\"none\");}\r\n",
      "        }\r\n",
      "        function Upgrade() {\r\n",
      "            showOverlay();\r\n",
      "            setTimeout(executeUpgrade, 20);\r\n",
      "        }\r\n",
      "        function closeOverlay() {\r\n",
      "            $('body').css(\"style\", \"\").removeClass();\r\n",
      "            $(\".overlay\").remove();\r\n",
      "            $(\".overlay-loading\").remove();\r\n",
      "        }\r\n",
      "        function showOverlay() {\r\n",
      "            var wWidth = $(window).width();\r\n",
      "            var wHeight = $(window).height();\r\n",
      "\r\n",
      "            var $model = $(\"<div class='overlay-container' id='upgrade_container'><div class='overlay-loading' id='upgrade_rate'>0%</div><div id='upgrade_msg' class='overlay-msg'>开始升级</div></div>\");\r\n",
      "\r\n",
      "            var mWidth = wWidth / 2 - 62;\r\n",
      "            var mHeight = wHeight / 2 - 62;\r\n",
      "            $model.css({ \"top\": mHeight, \"left\": mWidth }).show();\r\n",
      "\r\n",
      "            $('body').overlay({\r\n",
      "                opacity: 0.9,\r\n",
      "                //closeOnClick: closeOnClick,\r\n",
      "                zIndex: 2000\r\n",
      "            }).append($model);\r\n",
      "        }\r\n",
      "        function hideOverlay() {\r\n",
      "            $(\"#upgrade_container\").hide();\r\n",
      "            closeOverlay();\r\n",
      "        }\r\n",
      "        function executeUpgrade() {\r\n",
      "            var url = \"ajax/SysUpgrade.ashx?rd=\" + Math.random();\r\n",
      "            $.ajax({\r\n",
      "                type: \"GET\",\r\n",
      "                dataType: \"json\",\r\n",
      "                url: url,\r\n",
      "                success: function (data) {\r\n",
      "                    var rate = parseInt(data.rate);\r\n",
      "                    var msg = data.msg;\r\n",
      "                    $(\"#upgrade_rate\").html(rate + \"%\");\r\n",
      "                    $(\"#upgrade_msg\").html(msg);\r\n",
      "\r\n",
      "                    if (rate < 100 && rate != -1) {\r\n",
      "                        setTimeout(executeUpgrade, 20);\r\n",
      "                    }\r\n",
      "                    if (rate == 100) {\r\n",
      "                        hideOverlay();\r\n",
      "                    }\r\n",
      "                },\r\n",
      "                error: function (XMLHttpRequest, textStatus, errorThrown) {\r\n",
      "                    $(\"#upgrade_msg\").html(\"升级异常，请联系管理员\");\r\n",
      "                }\r\n",
      "            });\r\n",
      "        }\r\n",
      "    </script>\r\n",
      "</head>\r\n",
      "<body style=\"height: 100%\">\r\n",
      "    <form method=\"post\" action=\"Login.aspx\" id=\"form2\">\r\n",
      "<input type=\"hidden\" name=\"__VIEWSTATE\" id=\"__VIEWSTATE\" value=\"/wEPDwUKMTM4OTU1Nzc4NA8WAh4Hc3lzSW5mbzKSBQABAAAA/////wEAAAAAAAAADAIAAABPTmV3Y2FwZWMuVW5pdmVyc2FsU1MuRFRPLCBWZXJzaW9uPTEuMC4wLjAsIEN1bHR1cmU9bmV1dHJhbCwgUHVibGljS2V5VG9rZW49bnVsbAwDAAAAUk5ld2NhcGVjLlVuaXZlcnNhbFNTLkVudGl0eSwgVmVyc2lvbj0xLjAuMC4wLCBDdWx0dXJlPW5ldXRyYWwsIFB1YmxpY0tleVRva2VuPW51bGwFAQAAAChOZXdjYXBlYy5Vbml2ZXJzYWxTUy5EVE8uRFRPX09VVF9TWVNJTkZPBAAAAB48T1BFUkFUSU9OTU9ERT5rX19CYWNraW5nRmllbGQbRFRPX1dTUnVuUmVzdWx0K19yZXN1bHRDb2RlGkRUT19XU1J1blJlc3VsdCtfcmVzdWx0TXNnHURUT19XU1J1blJlc3VsdCtfRWNhcmRWZXJzaW9uBAEBBDNOZXdjYXBlYy5Vbml2ZXJzYWxTUy5FbnRpdHkuRW51bS5FbnVtX09QRVJBVElPTk1PREUDAAAAMk5ld2NhcGVjLlVuaXZlcnNhbFNTLkVudGl0eS5FbnVtLkVudW1fRWNhcmRWZXJzaW9uAwAAAAIAAAAF/P///zNOZXdjYXBlYy5Vbml2ZXJzYWxTUy5FbnRpdHkuRW51bS5FbnVtX09QRVJBVElPTk1PREUBAAAAB3ZhbHVlX18ACAMAAAABAAAABgUAAAABMQYGAAAADOaJp+ihjOaIkOWKnwX5////Mk5ld2NhcGVjLlVuaXZlcnNhbFNTLkVudGl0eS5FbnVtLkVudW1fRWNhcmRWZXJzaW9uAQAAAAd2YWx1ZV9fAAgDAAAAQAAAAAsWAgIDD2QWBAIDDw8WAh4HVmlzaWJsZWhkFgJmDw8WAh4EVGV4dAUIMDAwMDAwMDBkZAILDw8WBB4LTmF2aWdhdGVVcmwFI2h0dHBzOi8vZWNhcmQubmV1LmVkdS5jbi9zZWxmc2VhcmNoHwFnZGRk34v1vavlfBAT5JGb1twvfrGza1cbBBjwHiFfxJQZyiI=\" />\r\n",
      "\r\n",
      "<input type=\"hidden\" name=\"__EVENTVALIDATION\" id=\"__EVENTVALIDATION\" value=\"/wEWBgLgvOSqCQKl1bKzCQK1qbSRCwLTtPqEDQLkysKABAKC3IeGDA41jpa5xVly2Pb7NJC419LfVPIu7JD6MTC2fsieM6q2\" />\r\n",
      "    <div>\r\n",
      "        \r\n",
      "        \r\n",
      "    </div>\r\n",
      "    <div class=\"LoginBox\">\r\n",
      "        <div class=\"mainLogin\">\r\n",
      "            <div class=\"headerBox\">\r\n",
      "                <div class=\"header clearfix\">\r\n",
      "                    <h1>\r\n",
      "                        <a href=\"\" class=\"logo\">\r\n",
      "                            一卡通自助查询</a></h1>\r\n",
      "                </div>\r\n",
      "                \r\n",
      "            </div>\r\n",
      "            <div class=\"mainBox  bg1\">\r\n",
      "                <div class=\"main\">\r\n",
      "                    <div class=\"positionBox clearfix\">\r\n",
      "                        <div class=\"loginBox\">\r\n",
      "                            <div class=\"formbox\">\r\n",
      "                                <div class=\"m1-m border\">\r\n",
      "                                    <div class=\"yydt\">\r\n",
      "                                        <ul>\r\n",
      "                                            <li class=\"hover\" id=\"one1\" onmouseover=\"setTab('one',1,2)\"><a href=\"#\">\r\n",
      "                                                用户登录</a> </li>\r\n",
      "                                            <li id=\"one2\" onmouseover=\"setTab(&#39;one&#39;,2,2)\"><a href=\"#\">商户登录</a> </li>\r\n",
      "                                        </ul>\r\n",
      "                                    </div>\r\n",
      "                                    <div class=\"tab1\">\r\n",
      "                                        <div id=\"con_one_1\">\r\n",
      "                                            \r\n",
      "                                            \r\n",
      "                                            <div class=\"usernameBox\">\r\n",
      "                                                <input name=\"txtUserName\" type=\"text\" maxlength=\"32\" id=\"txtUserName\" class=\"username\" />\r\n",
      "                                                <span id=\"lblOutid\" class=\"placeholder\">学&nbsp;(工)&nbsp;号：</span>\r\n",
      "                                            </div>\r\n",
      "                                            \r\n",
      "                                            <div class=\"passwordBox\">\r\n",
      "                                                <input name=\"txtPassword\" type=\"password\" id=\"txtPassword\" class=\"password\" autocomplete=\"off\" />\r\n",
      "                                                <label for=\"freepassword\" class=\"placeholder\">\r\n",
      "                                                    密&nbsp;&nbsp;&nbsp;&nbsp;码：</label>\r\n",
      "                                            </div>\r\n",
      "                                            <div id=\"checkcodeBoxPanel\" class=\"checkcodeBox\">\r\n",
      "                                                <div class=\"clearfix\">\r\n",
      "                                                    <input name=\"txtVaildateCode\" type=\"text\" id=\"txtVaildateCode\" />\r\n",
      "                                                    <img style=\"cursor: pointer; position: absolute; top: 2px; left: 160px;\" id=\"imgRandom\"\r\n",
      "                                                        alt='看不清？点击更换' onclick=\"ShowValidImage()\" src=\"\" title='看不清？点击更换' />\r\n",
      "                                                    <label for=\"freecheckcode\" class=\"placeholder\">\r\n",
      "                                                        验 证 码：</label>\r\n",
      "                                                </div>\r\n",
      "                                                \r\n",
      "                                            </div>\r\n",
      "                                        </div>\r\n",
      "                                    </div>\r\n",
      "                                    \r\n",
      "                                    <div class=\"isManagerPanel\">\r\n",
      "                                         <input type=\"hidden\" name=\"hfIsManager\" id=\"hfIsManager\" value=\"0\" />\r\n",
      "                                        <a id=\"hlSafeLogin\" href=\"https://ecard.neu.edu.cn/selfsearch\" target=\"_self\">安全登录</a>\r\n",
      "                                        <a href=\"User/PwdLoss.aspx\" style=\"line-height: 35px;\" id=\"aForgetPWD\">\r\n",
      "                                            忘记密码</a></div>\r\n",
      "                                    <div class=\"login_btn clearfix\">\r\n",
      "                                        \r\n",
      "                                        <a id=\"btnLogin\" class=\"loginBtn\" href=\"javascript:__doPostBack(&#39;btnLogin&#39;,&#39;&#39;)\"></a>\r\n",
      "                                        <a href=\"javascript:void(0)\" class=\"resBtn\" onclick=\"FormReset()\">\r\n",
      "                                            重置</a>\r\n",
      "                                    </div>\r\n",
      "                                    <div class=\"loginerror\">\r\n",
      "                                        \r\n",
      "                                    </div>\r\n",
      "                                </div>\r\n",
      "                            </div>\r\n",
      "                        </div>\r\n",
      "                    </div>\r\n",
      "                </div>\r\n",
      "            </div>\r\n",
      "            <div class=\"footerBox\">\r\n",
      "                <div class=\"footer clearfix\">\r\n",
      "                    <p class=\"copy\">\r\n",
      "                        技术支持&nbsp;新开普电子股份有限公司</p>\r\n",
      "                </div>\r\n",
      "            </div>\r\n",
      "        </div>\r\n",
      "    </div>\r\n",
      "    </form>\r\n",
      "</body>\r\n",
      "</html>\r\n",
      "\n"
     ]
    }
   ],
   "source": [
    "#查看获取到网页内容\n",
    "print(resp_login_page.text)"
   ]
  },
  {
   "cell_type": "markdown",
   "metadata": {},
   "source": [
    "以上内容，我们可以用正则表达式来找出我们想要的信息，不过太难了。让我们来尝尝神奇的BeautifulSoup😎\n",
    "\n",
    "第一个参数是网页的内容，第二个参数是所用的解析器，‘html.parser’是python标准库中自带的。\n",
    "\n",
    "这样我们就获得了一个文档对象。"
   ]
  },
  {
   "cell_type": "code",
   "execution_count": 5,
   "metadata": {
    "collapsed": true
   },
   "outputs": [],
   "source": [
    "soup_login_page = BeautifulSoup(resp_login_page.text, 'html.parser')"
   ]
  },
  {
   "cell_type": "markdown",
   "metadata": {},
   "source": [
    "通过这个文档对象可以轻易地获取我们想获取的内容。\n",
    "\n",
    "以下代码找到了页面中的title标签。\n",
    "\n",
    "关于find方法的更多介绍，你可以[看这里](https://www.crummy.com/software/BeautifulSoup/bs4/doc/index.zh.html#find)\n",
    "\n",
    "- find返回第一个结果。\n",
    "- find_all方法会返回一个储存了全部结果的list"
   ]
  },
  {
   "cell_type": "code",
   "execution_count": 6,
   "metadata": {},
   "outputs": [
    {
     "data": {
      "text/plain": [
       "<title>\n",
       "\t\n",
       "        一卡通自助查询\n",
       "        --欢迎登录\n",
       "</title>"
      ]
     },
     "execution_count": 6,
     "metadata": {},
     "output_type": "execute_result"
    }
   ],
   "source": [
    "soup_login_page.find('title')"
   ]
  },
  {
   "cell_type": "markdown",
   "metadata": {},
   "source": [
    "也可以直接用id来搜索"
   ]
  },
  {
   "cell_type": "code",
   "execution_count": 7,
   "metadata": {},
   "outputs": [
    {
     "data": {
      "text/plain": [
       "<li class=\"hover\" id=\"one1\" onmouseover=\"setTab('one',1,2)\"><a href=\"#\">\n",
       "                                                用户登录</a> </li>"
      ]
     },
     "execution_count": 7,
     "metadata": {},
     "output_type": "execute_result"
    }
   ],
   "source": [
    "soup_login_page.find(id='one1')"
   ]
  },
  {
   "cell_type": "markdown",
   "metadata": {},
   "source": [
    "那你来试试看，获取VIEWSTATE和EVENTVALIDATION的值。\n",
    "\n",
    "提示：他们的值写的html里面，并且有特定的id。\n",
    "标签的属性，可以通过`xxx['abc']`来获取"
   ]
  },
  {
   "cell_type": "code",
   "execution_count": 8,
   "metadata": {},
   "outputs": [
    {
     "name": "stdout",
     "output_type": "stream",
     "text": [
      "/wEPDwUKMTM4OTU1Nzc4NA8WAh4Hc3lzSW5mbzKSBQABAAAA/////wEAAAAAAAAADAIAAABPTmV3Y2FwZWMuVW5pdmVyc2FsU1MuRFRPLCBWZXJzaW9uPTEuMC4wLjAsIEN1bHR1cmU9bmV1dHJhbCwgUHVibGljS2V5VG9rZW49bnVsbAwDAAAAUk5ld2NhcGVjLlVuaXZlcnNhbFNTLkVudGl0eSwgVmVyc2lvbj0xLjAuMC4wLCBDdWx0dXJlPW5ldXRyYWwsIFB1YmxpY0tleVRva2VuPW51bGwFAQAAAChOZXdjYXBlYy5Vbml2ZXJzYWxTUy5EVE8uRFRPX09VVF9TWVNJTkZPBAAAAB48T1BFUkFUSU9OTU9ERT5rX19CYWNraW5nRmllbGQbRFRPX1dTUnVuUmVzdWx0K19yZXN1bHRDb2RlGkRUT19XU1J1blJlc3VsdCtfcmVzdWx0TXNnHURUT19XU1J1blJlc3VsdCtfRWNhcmRWZXJzaW9uBAEBBDNOZXdjYXBlYy5Vbml2ZXJzYWxTUy5FbnRpdHkuRW51bS5FbnVtX09QRVJBVElPTk1PREUDAAAAMk5ld2NhcGVjLlVuaXZlcnNhbFNTLkVudGl0eS5FbnVtLkVudW1fRWNhcmRWZXJzaW9uAwAAAAIAAAAF/P///zNOZXdjYXBlYy5Vbml2ZXJzYWxTUy5FbnRpdHkuRW51bS5FbnVtX09QRVJBVElPTk1PREUBAAAAB3ZhbHVlX18ACAMAAAABAAAABgUAAAABMQYGAAAADOaJp+ihjOaIkOWKnwX5////Mk5ld2NhcGVjLlVuaXZlcnNhbFNTLkVudGl0eS5FbnVtLkVudW1fRWNhcmRWZXJzaW9uAQAAAAd2YWx1ZV9fAAgDAAAAQAAAAAsWAgIDD2QWBAIDDw8WAh4HVmlzaWJsZWhkFgJmDw8WAh4EVGV4dAUIMDAwMDAwMDBkZAILDw8WBB4LTmF2aWdhdGVVcmwFI2h0dHBzOi8vZWNhcmQubmV1LmVkdS5jbi9zZWxmc2VhcmNoHwFnZGRk34v1vavlfBAT5JGb1twvfrGza1cbBBjwHiFfxJQZyiI=\n",
      "\n",
      "/wEWBgLgvOSqCQKl1bKzCQK1qbSRCwLTtPqEDQLkysKABAKC3IeGDA41jpa5xVly2Pb7NJC419LfVPIu7JD6MTC2fsieM6q2\n"
     ]
    }
   ],
   "source": [
    "VIEWSTATE= soup_login_page.find(id = '__VIEWSTATE')['value']\n",
    "EVENTVALIDATION= soup_login_page.find(id = '__EVENTVALIDATION')['value']\n",
    "print(VIEWSTATE+'\\n')\n",
    "print(EVENTVALIDATION)"
   ]
  },
  {
   "cell_type": "markdown",
   "metadata": {},
   "source": [
    "### 4.1.2获取验证码\n",
    "通常你看到的网页中的图片，在html中只是写了一个图片的链接。\n",
    "我们的验证码也需要从一个图片获得。\n"
   ]
  },
  {
   "cell_type": "code",
   "execution_count": 9,
   "metadata": {},
   "outputs": [
    {
     "name": "stdout",
     "output_type": "stream",
     "text": [
      "http://ecard.neu.edu.cn/SelfSearch/validateimage.ashx?0.6539948886334391\n"
     ]
    }
   ],
   "source": [
    "# 获得验证码的url，你需要写一行,提示：你可能需要随机数函数\n",
    "url_captcha= 'http://ecard.neu.edu.cn/SelfSearch/validateimage.ashx?' + str(random.random())\n",
    "print(url_captcha)\n",
    "#向该链接发送get请求，并获取Response对象，你需要写一行\n",
    "resp_captcha = session.get(url=url_captcha)"
   ]
  },
  {
   "cell_type": "markdown",
   "metadata": {},
   "source": [
    "将图片保存。\n",
    "[关于二进制的响应内容](http://docs.python-requests.org/zh_CN/latest/user/quickstart.html#id4)"
   ]
  },
  {
   "cell_type": "code",
   "execution_count": 10,
   "metadata": {
    "collapsed": true
   },
   "outputs": [],
   "source": [
    "with open('captcha.gif', 'wb') as f:\n",
    "    f.write(resp_captcha.content)\n",
    "    f.close()"
   ]
  },
  {
   "cell_type": "markdown",
   "metadata": {},
   "source": [
    "读取图片文件，并显示。\n",
    "\n",
    "[教程看这里](https://matplotlib.org/tutorials/introductory/images.html#sphx-glr-tutorials-introductory-images-py)"
   ]
  },
  {
   "cell_type": "code",
   "execution_count": 11,
   "metadata": {},
   "outputs": [
    {
     "data": {
      "text/plain": [
       "<matplotlib.image.AxesImage at 0x23de45b47b8>"
      ]
     },
     "execution_count": 11,
     "metadata": {},
     "output_type": "execute_result"
    },
    {
     "data": {
      "image/png": "[encoded data removed]",
      "text/plain": [
       "<matplotlib.figure.Figure at 0x23de43c6ba8>"
      ]
     },
     "metadata": {},
     "output_type": "display_data"
    }
   ],
   "source": [
    "img = mpimg.imread('captcha.gif')\n",
    "plt.imshow(img)"
   ]
  },
  {
   "cell_type": "code",
   "execution_count": 13,
   "metadata": {
    "collapsed": true
   },
   "outputs": [],
   "source": [
    "#把看到的验证码填到这里,注意是字符串形式哟\n",
    "captcha= '5115'"
   ]
  },
  {
   "cell_type": "markdown",
   "metadata": {},
   "source": [
    "### 4.1.3登录"
   ]
  },
  {
   "cell_type": "markdown",
   "metadata": {},
   "source": [
    "登录需要向服务器发送一个post请求，\n",
    "你需要先获取所需的链接和post请求的请求体内容"
   ]
  },
  {
   "cell_type": "code",
   "execution_count": 14,
   "metadata": {
    "collapsed": true
   },
   "outputs": [],
   "source": [
    "userName = ''\n",
    "passwd= ''\n",
    "\n",
    "url_login = 'http://ecard.neu.edu.cn/SelfSearch/Login.aspx'\n",
    "postdata = {\n",
    "    '__EVENTVALIDATION': EVENTVALIDATION,\n",
    "    '__VIEWSTATE': VIEWSTATE,\n",
    "    '__EVENTTARGET': 'btnLogin',\n",
    "    'txtUserName': userName,\n",
    "    'txtPassword': passwd,\n",
    "    'txtVaildateCode': captcha,\n",
    "    'hfIsManager':0\n",
    "}"
   ]
  },
  {
   "cell_type": "code",
   "execution_count": 15,
   "metadata": {},
   "outputs": [
    {
     "name": "stdout",
     "output_type": "stream",
     "text": [
      "跳转的链接： http://ecard.neu.edu.cn/SelfSearch/Index.aspx\n"
     ]
    }
   ],
   "source": [
    "loginresponse = session.post(url=url_login, data=postdata)\n",
    "print('跳转的链接：', loginresponse.url)"
   ]
  },
  {
   "cell_type": "markdown",
   "metadata": {},
   "source": [
    "如果返回的是'http://ecard.neu.edu.cn/SelfSearch/Index.aspx' 则说明我们已经登录成功并且跳转到了登陆后的页面。"
   ]
  },
  {
   "cell_type": "markdown",
   "metadata": {},
   "source": [
    "来看看你的证件照吧！"
   ]
  },
  {
   "cell_type": "code",
   "execution_count": 16,
   "metadata": {},
   "outputs": [
    {
     "name": "stdout",
     "output_type": "stream",
     "text": [
      "跳转链接 http://ecard.neu.edu.cn/SelfSearch/User/Photo.ashx\n"
     ]
    }
   ],
   "source": [
    "# 自己去找照片的url\n",
    "url_profile_photo='http://ecard.neu.edu.cn/SelfSearch/User/Photo.ashx'\n",
    "\n",
    "#发送get请求\n",
    "resp_profile_photo = session.get(url=url_profile_photo)\n",
    "\n",
    "#你可以看请求对象的url属性值十分为http://ecard.neu.edu.cn/SelfSearch/User/Photo.ashx 来判断是否是登录成功的。因为要是没成功，回跳转到登录页面\n",
    "print('跳转链接', resp_profile_photo.url)\n",
    "\n",
    "#保存图片\n",
    "with open('userPic.jpg', 'wb') as f:\n",
    "    f.write(resp_profile_photo.content)\n",
    "    f.close()\n"
   ]
  },
  {
   "cell_type": "code",
   "execution_count": 17,
   "metadata": {},
   "outputs": [
    {
     "data": {
      "text/plain": [
       "<matplotlib.image.AxesImage at 0x23de4679c50>"
      ]
     },
     "execution_count": 17,
     "metadata": {},
     "output_type": "execute_result"
    },
    {
     "data": {
      "image/png": "[encoded data removed]",
      "text/plain": [
       "<matplotlib.figure.Figure at 0x23de46455f8>"
      ]
     },
     "metadata": {},
     "output_type": "display_data"
    }
   ],
   "source": [
    "#查看图片，自己写\n",
    "img = mpimg.imread('userPic.jpg')\n",
    "plt.imshow(img)\n"
   ]
  },
  {
   "cell_type": "markdown",
   "metadata": {},
   "source": [
    "### 4.2数据查询与获取"
   ]
  },
  {
   "cell_type": "markdown",
   "metadata": {},
   "source": [
    "### 4.2.1 获取查询页面\n",
    "\n",
    "4.2.3 结果翻页"
   ]
  },
  {
   "cell_type": "code",
   "execution_count": 18,
   "metadata": {},
   "outputs": [
    {
     "name": "stdout",
     "output_type": "stream",
     "text": [
      "/wEPDwUINDEyMzA5NDkPFgIeCFNvcnRUeXBlBQNBU0MWAmYPZBYCAgMPZBYCAgMPZBYCAgQPPCsAEQIADxYEHgtfIURhdGFCb3VuZGceC18hSXRlbUNvdW50ZmQBEBYAFgAWABYCZg9kFgJmD2QWAgIBD2QWAgIBDw8WBB4IQ3NzQ2xhc3MFClNvcnRCdF9Bc2MeBF8hU0ICAmRkGAEFImN0bDAwJENvbnRlbnRQbGFjZUhvbGRlcjEkZ3JpZFZpZXcPPCsADAEIZmS1nGD/GSue8PpoytFqShSdqUF6ljUyRQIwkBYf3H/1Cg==\n"
     ]
    }
   ],
   "source": [
    "# 自己找消费记录是向哪个url请求的\n",
    "url_consumeInfo= 'http://ecard.neu.edu.cn/SelfSearch/User/ConsumeInfo.aspx'\n",
    "\n",
    "#获取页面\n",
    "consume_response0=session.get(url_consumeInfo)\n",
    "consume_soup = BeautifulSoup(consume_response0.text, 'html.parser')\n",
    "\n",
    "#解析出以下两个变量的值\n",
    "VIEWSTATE= consume_soup.find(id='__VIEWSTATE')['value']\n",
    "EVENTVALIDATION= consume_soup.find(id='__EVENTVALIDATION')['value']\n",
    "print(VIEWSTATE)"
   ]
  },
  {
   "cell_type": "markdown",
   "metadata": {},
   "source": [
    "### 4.2.2 进行查询与数据解析"
   ]
  },
  {
   "cell_type": "code",
   "execution_count": 19,
   "metadata": {
    "collapsed": true
   },
   "outputs": [],
   "source": [
    "#构造postdata\n",
    "postdata_consume = {\n",
    "    '__EVENTTARGET':'',\n",
    "    '__EVENTARGUMENT':'',\n",
    "    '__VIEWSTATE': VIEWSTATE,\n",
    "    '__EVENTVALIDATION': EVENTVALIDATION,\n",
    "    'ctl00$ContentPlaceHolder1$rbtnType': 0,\n",
    "    'ctl00$ContentPlaceHolder1$txtStartDate': '2018-03-11',\n",
    "    'ctl00$ContentPlaceHolder1$txtEndDate': '2018-03-18',\n",
    "    'ctl00$ContentPlaceHolder1$btnSearch': '查  询',\n",
    "}\n",
    "\n",
    "resp_consume_1=session.post(url_consumeInfo,data=postdata_consume)\n",
    "soup_consume_1 = BeautifulSoup(resp_consume_1.text, 'html.parser')\n"
   ]
  },
  {
   "cell_type": "code",
   "execution_count": 21,
   "metadata": {},
   "outputs": [
    {
     "data": {
      "text/plain": [
       "3"
      ]
     },
     "execution_count": 21,
     "metadata": {},
     "output_type": "execute_result"
    }
   ],
   "source": [
    "#找到显示交易信息的table\n",
    "list_page = soup_consume_1.find(id='ContentPlaceHolder1_AspNetPager1').find_all('a')\n",
    "a = int(list_page[len(list_page) - 3].text)"
   ]
  },
  {
   "cell_type": "code",
   "execution_count": 198,
   "metadata": {
    "collapsed": true
   },
   "outputs": [],
   "source": [
    "#想办法利用find_all方法，把每一行的数据提出来，再把一行中的对应内容提取出来\n",
    "#提示：对于一个文档对象  可以利用abc.text 来获取其文字内容\n",
    "#提示：关于HTML的table，可以看这里http://www.w3school.com.cn/tags/tag_table.asp\n",
    "\n",
    "\n"
   ]
  },
  {
   "cell_type": "markdown",
   "metadata": {},
   "source": [
    "### 4.2.3 翻页（自己完成）\n",
    "\n",
    "1. 探索翻页实现的机制\n",
    "2. 构造对应的请求数据实现翻页"
   ]
  },
  {
   "cell_type": "code",
   "execution_count": 224,
   "metadata": {
    "collapsed": true
   },
   "outputs": [],
   "source": [
    "VIEWSTATE= soup_consume_1.find(id='__VIEWSTATE')['value']\n",
    "EVENTVALIDATION= soup_consume_1.find(id='__EVENTVALIDATION')['value']\n",
    "postdata_consume2 = {\n",
    "    '__EVENTTARGET':'ctl00$ContentPlaceHolder1$AspNetPager1',\n",
    "    '__EVENTARGUMENT':'2',\n",
    "    '__VIEWSTATE': VIEWSTATE,\n",
    "    '__EVENTVALIDATION': EVENTVALIDATION,\n",
    "    'ctl00$ContentPlaceHolder1$rbtnType': 0,\n",
    "    'ctl00$ContentPlaceHolder1$txtStartDate': '2018-03-11',\n",
    "    'ctl00$ContentPlaceHolder1$txtEndDate': '2018-03-18',\n",
    "}\n",
    "resp_consume_2= session.post(url_consumeInfo,data=postdata_consume2)\n",
    "soup_consume_2 = BeautifulSoup(resp_consume_2.text, 'html.parser')"
   ]
  },
  {
   "cell_type": "code",
   "execution_count": 225,
   "metadata": {},
   "outputs": [
    {
     "name": "stdout",
     "output_type": "stream",
     "text": [
      "\n",
      "操作时间\n",
      "\n",
      "科目描述\n",
      "钱包交易金额\n",
      "钱包余额\n",
      "操作员\n",
      "工作站\n",
      "终端名称\n",
      "\n",
      "2018/3/15 11:57:18\n",
      "\n",
      "餐费支出\n",
      "4.50\n",
      "162.41\n",
      "虚拟职员\n",
      "餐饮采集工作站\n",
      "水果店65号（原面包）\n",
      "\n",
      "2018/3/15 16:31:28\n",
      "\n",
      "餐费支出\n",
      "0.60\n",
      "157.31\n",
      "虚拟职员\n",
      "餐饮采集工作站\n",
      "浑南一楼27#\n",
      "\n",
      "2018/3/15 16:32:16\n",
      "\n",
      "餐费支出\n",
      "4.50\n",
      "157.91\n",
      "虚拟职员\n",
      "餐饮采集工作站\n",
      "浑南一楼24#\n",
      "\n",
      "2018/3/16 11:51:23\n",
      "\n",
      "餐费支出\n",
      "12.00\n",
      "145.31\n",
      "虚拟职员\n",
      "餐饮采集工作站\n",
      "浑南三楼130#\n",
      "\n",
      "2018/3/16 18:13:10\n",
      "\n",
      "餐费支出\n",
      "11.00\n",
      "134.31\n",
      "虚拟职员\n",
      "餐饮采集工作站\n",
      "浑南一楼49#\n",
      "\n",
      "2018/3/17 12:05:08\n",
      "\n",
      "淋浴支出\n",
      "0.50\n",
      "133.81\n",
      "虚拟职员\n",
      "浴室采集工作站\n",
      "男浴池2楼35#\n",
      "\n",
      "2018/3/17 12:07:38\n",
      "\n",
      "淋浴支出\n",
      "0.50\n",
      "133.31\n",
      "虚拟职员\n",
      "浴室采集工作站\n",
      "男浴池2楼35#\n",
      "\n",
      "2018/3/17 12:10:08\n",
      "\n",
      "淋浴支出\n",
      "0.50\n",
      "132.81\n",
      "虚拟职员\n",
      "浴室采集工作站\n",
      "男浴池2楼35#\n",
      "\n",
      "2018/3/17 12:13:32\n",
      "\n",
      "淋浴支出\n",
      "0.50\n",
      "132.31\n",
      "虚拟职员\n",
      "浴室采集工作站\n",
      "男浴池2楼35#\n",
      "\n",
      "2018/3/17 12:31:44\n",
      "\n",
      "餐费支出\n",
      "8.00\n",
      "124.31\n",
      "虚拟职员\n",
      "餐饮采集工作站\n",
      "浑南三楼148#\n"
     ]
    }
   ],
   "source": [
    "info_table= soup_consume_2.find_all('table')[1]\n",
    "for line in info_table.find_all('tr'):\n",
    "    for thh in line.find_all('th'):\n",
    "        print(thh.text)\n",
    "    for tdd in line.find_all('td'):\n",
    "        print(tdd.text)"
   ]
  },
  {
   "cell_type": "code",
   "execution_count": 228,
   "metadata": {
    "collapsed": true
   },
   "outputs": [],
   "source": [
    "import pandas as pd  "
   ]
  },
  {
   "cell_type": "code",
   "execution_count": 234,
   "metadata": {
    "collapsed": true
   },
   "outputs": [],
   "source": [
    "# a = ['one','two','three']  \n",
    "# b = [1,2,3]  \n",
    "# save = pd.DataFrame({'english':a,'number':b})  \n",
    "# save.to_csv('b.txt',index=False,sep=',')  "
   ]
  },
  {
   "cell_type": "code",
   "execution_count": 236,
   "metadata": {
    "collapsed": true
   },
   "outputs": [],
   "source": [
    "info_table= soup_consume_2.find_all('table')[1]\n",
    "list1 = []\n",
    "list2 = []\n",
    "for line in info_table.find_all('tr'):\n",
    "    for thh in line.find_all('th'):\n",
    "        list1.append(thh.text)\n",
    "    for tdd in line.find_all('td'):\n",
    "        list2.append(tdd.text)"
   ]
  },
  {
   "cell_type": "code",
   "execution_count": 252,
   "metadata": {
    "collapsed": true
   },
   "outputs": [],
   "source": [
    "list1[0] = list1[0].strip('\\n')"
   ]
  },
  {
   "cell_type": "code",
   "execution_count": 253,
   "metadata": {
    "collapsed": true
   },
   "outputs": [],
   "source": [
    "time = []\n",
    "detail = []\n",
    "money = []\n",
    "balance = []\n",
    "operator = []\n",
    "workstation = []\n",
    "terminal = []   \n",
    "for i in range(0,10):\n",
    "    list2[i*7] = list2[i*7].strip('\\n')\n",
    "    time.append(list2[i*7])\n",
    "    detail.append(list2[i*7+1])\n",
    "    money.append(list2[i*7+2])\n",
    "    balance.append(list2[i*7+3])\n",
    "    operator.append(list2[i*7+4])\n",
    "    workstation.append(list2[i*7+5])\n",
    "    terminal.append(list2[i*7+6])"
   ]
  },
  {
   "cell_type": "code",
   "execution_count": 264,
   "metadata": {
    "scrolled": true
   },
   "outputs": [
    {
     "data": {
      "text/html": [
       "<div>\n",
       "<style>\n",
       "    .dataframe thead tr:only-child th {\n",
       "        text-align: right;\n",
       "    }\n",
       "\n",
       "    .dataframe thead th {\n",
       "        text-align: left;\n",
       "    }\n",
       "\n",
       "    .dataframe tbody tr th {\n",
       "        vertical-align: top;\n",
       "    }\n",
       "</style>\n",
       "<table border=\"1\" class=\"dataframe\">\n",
       "  <thead>\n",
       "    <tr style=\"text-align: right;\">\n",
       "      <th></th>\n",
       "      <th>工作站</th>\n",
       "      <th>操作员</th>\n",
       "      <th>操作时间</th>\n",
       "      <th>科目描述</th>\n",
       "      <th>终端名称</th>\n",
       "      <th>钱包交易金额</th>\n",
       "      <th>钱包余额</th>\n",
       "    </tr>\n",
       "  </thead>\n",
       "  <tbody>\n",
       "    <tr>\n",
       "      <th>0</th>\n",
       "      <td>餐饮采集工作站</td>\n",
       "      <td>虚拟职员</td>\n",
       "      <td>2018/3/15 11:57:18</td>\n",
       "      <td>餐费支出</td>\n",
       "      <td>水果店65号（原面包）</td>\n",
       "      <td>4.50</td>\n",
       "      <td>162.41</td>\n",
       "    </tr>\n",
       "    <tr>\n",
       "      <th>1</th>\n",
       "      <td>餐饮采集工作站</td>\n",
       "      <td>虚拟职员</td>\n",
       "      <td>2018/3/15 16:31:28</td>\n",
       "      <td>餐费支出</td>\n",
       "      <td>浑南一楼27#</td>\n",
       "      <td>0.60</td>\n",
       "      <td>157.31</td>\n",
       "    </tr>\n",
       "    <tr>\n",
       "      <th>2</th>\n",
       "      <td>餐饮采集工作站</td>\n",
       "      <td>虚拟职员</td>\n",
       "      <td>2018/3/15 16:32:16</td>\n",
       "      <td>餐费支出</td>\n",
       "      <td>浑南一楼24#</td>\n",
       "      <td>4.50</td>\n",
       "      <td>157.91</td>\n",
       "    </tr>\n",
       "    <tr>\n",
       "      <th>3</th>\n",
       "      <td>餐饮采集工作站</td>\n",
       "      <td>虚拟职员</td>\n",
       "      <td>2018/3/16 11:51:23</td>\n",
       "      <td>餐费支出</td>\n",
       "      <td>浑南三楼130#</td>\n",
       "      <td>12.00</td>\n",
       "      <td>145.31</td>\n",
       "    </tr>\n",
       "    <tr>\n",
       "      <th>4</th>\n",
       "      <td>餐饮采集工作站</td>\n",
       "      <td>虚拟职员</td>\n",
       "      <td>2018/3/16 18:13:10</td>\n",
       "      <td>餐费支出</td>\n",
       "      <td>浑南一楼49#</td>\n",
       "      <td>11.00</td>\n",
       "      <td>134.31</td>\n",
       "    </tr>\n",
       "    <tr>\n",
       "      <th>5</th>\n",
       "      <td>浴室采集工作站</td>\n",
       "      <td>虚拟职员</td>\n",
       "      <td>2018/3/17 12:05:08</td>\n",
       "      <td>淋浴支出</td>\n",
       "      <td>男浴池2楼35#</td>\n",
       "      <td>0.50</td>\n",
       "      <td>133.81</td>\n",
       "    </tr>\n",
       "    <tr>\n",
       "      <th>6</th>\n",
       "      <td>浴室采集工作站</td>\n",
       "      <td>虚拟职员</td>\n",
       "      <td>2018/3/17 12:07:38</td>\n",
       "      <td>淋浴支出</td>\n",
       "      <td>男浴池2楼35#</td>\n",
       "      <td>0.50</td>\n",
       "      <td>133.31</td>\n",
       "    </tr>\n",
       "    <tr>\n",
       "      <th>7</th>\n",
       "      <td>浴室采集工作站</td>\n",
       "      <td>虚拟职员</td>\n",
       "      <td>2018/3/17 12:10:08</td>\n",
       "      <td>淋浴支出</td>\n",
       "      <td>男浴池2楼35#</td>\n",
       "      <td>0.50</td>\n",
       "      <td>132.81</td>\n",
       "    </tr>\n",
       "    <tr>\n",
       "      <th>8</th>\n",
       "      <td>浴室采集工作站</td>\n",
       "      <td>虚拟职员</td>\n",
       "      <td>2018/3/17 12:13:32</td>\n",
       "      <td>淋浴支出</td>\n",
       "      <td>男浴池2楼35#</td>\n",
       "      <td>0.50</td>\n",
       "      <td>132.31</td>\n",
       "    </tr>\n",
       "    <tr>\n",
       "      <th>9</th>\n",
       "      <td>餐饮采集工作站</td>\n",
       "      <td>虚拟职员</td>\n",
       "      <td>2018/3/17 12:31:44</td>\n",
       "      <td>餐费支出</td>\n",
       "      <td>浑南三楼148#</td>\n",
       "      <td>8.00</td>\n",
       "      <td>124.31</td>\n",
       "    </tr>\n",
       "  </tbody>\n",
       "</table>\n",
       "</div>"
      ],
      "text/plain": [
       "       工作站   操作员                操作时间  科目描述         终端名称 钱包交易金额    钱包余额\n",
       "0  餐饮采集工作站  虚拟职员  2018/3/15 11:57:18  餐费支出  水果店65号（原面包）   4.50  162.41\n",
       "1  餐饮采集工作站  虚拟职员  2018/3/15 16:31:28  餐费支出      浑南一楼27#   0.60  157.31\n",
       "2  餐饮采集工作站  虚拟职员  2018/3/15 16:32:16  餐费支出      浑南一楼24#   4.50  157.91\n",
       "3  餐饮采集工作站  虚拟职员  2018/3/16 11:51:23  餐费支出     浑南三楼130#  12.00  145.31\n",
       "4  餐饮采集工作站  虚拟职员  2018/3/16 18:13:10  餐费支出      浑南一楼49#  11.00  134.31\n",
       "5  浴室采集工作站  虚拟职员  2018/3/17 12:05:08  淋浴支出     男浴池2楼35#   0.50  133.81\n",
       "6  浴室采集工作站  虚拟职员  2018/3/17 12:07:38  淋浴支出     男浴池2楼35#   0.50  133.31\n",
       "7  浴室采集工作站  虚拟职员  2018/3/17 12:10:08  淋浴支出     男浴池2楼35#   0.50  132.81\n",
       "8  浴室采集工作站  虚拟职员  2018/3/17 12:13:32  淋浴支出     男浴池2楼35#   0.50  132.31\n",
       "9  餐饮采集工作站  虚拟职员  2018/3/17 12:31:44  餐费支出     浑南三楼148#   8.00  124.31"
      ]
     },
     "execution_count": 264,
     "metadata": {},
     "output_type": "execute_result"
    }
   ],
   "source": [
    "data = {list1[0]:time,list1[1]:detail,list1[2]:money,list1[3]:balance,list1[4]:operator,list1[5]:workstation,list1[6]:terminal}\n",
    "frame = pd.DataFrame(data)\n",
    "frame.to_csv('result.txt',index=False,sep=',')  \n",
    "frame"
   ]
  },
  {
   "cell_type": "code",
   "execution_count": null,
   "metadata": {
    "collapsed": true
   },
   "outputs": [],
   "source": []
  }
 ],
 "metadata": {
  "anaconda-cloud": {},
  "kernelspec": {
   "display_name": "Python 3",
   "language": "python",
   "name": "python3"
  },
  "language_info": {
   "codemirror_mode": {
    "name": "ipython",
    "version": 3
   },
   "file_extension": ".py",
   "mimetype": "text/x-python",
   "name": "python",
   "nbconvert_exporter": "python",
   "pygments_lexer": "ipython3",
   "version": "3.6.3"
  }
 },
 "nbformat": 4,
 "nbformat_minor": 2
}
